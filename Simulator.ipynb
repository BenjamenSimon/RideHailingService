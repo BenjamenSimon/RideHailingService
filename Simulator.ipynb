{
 "cells": [
  {
   "attachments": {},
   "cell_type": "markdown",
   "metadata": {},
   "source": [
    "# Ride Hailing Service: Simulator\n",
    "### Benjamen Simon\n",
    "\n",
    "The goal of this document is to build a simulator for the Ride Hailing service, using the probabilities of acceptance for each Pay estimated in the Modelling document, to explore different strategies for maximising profit."
   ]
  },
  {
   "attachments": {},
   "cell_type": "markdown",
   "metadata": {},
   "source": [
    "## Import Packages"
   ]
  },
  {
   "cell_type": "code",
   "execution_count": 1,
   "metadata": {},
   "outputs": [],
   "source": [
    "import pandas as pd\n",
    "import numpy as np\n",
    "import matplotlib.pyplot as plt\n",
    "from numpy import random"
   ]
  },
  {
   "attachments": {},
   "cell_type": "markdown",
   "metadata": {},
   "source": [
    "## Load the Data"
   ]
  },
  {
   "cell_type": "code",
   "execution_count": 2,
   "metadata": {},
   "outputs": [
    {
     "data": {
      "text/html": [
       "<div>\n",
       "<style scoped>\n",
       "    .dataframe tbody tr th:only-of-type {\n",
       "        vertical-align: middle;\n",
       "    }\n",
       "\n",
       "    .dataframe tbody tr th {\n",
       "        vertical-align: top;\n",
       "    }\n",
       "\n",
       "    .dataframe thead th {\n",
       "        text-align: right;\n",
       "    }\n",
       "</style>\n",
       "<table border=\"1\" class=\"dataframe\">\n",
       "  <thead>\n",
       "    <tr style=\"text-align: right;\">\n",
       "      <th></th>\n",
       "      <th>PAY</th>\n",
       "      <th>PROB</th>\n",
       "    </tr>\n",
       "  </thead>\n",
       "  <tbody>\n",
       "    <tr>\n",
       "      <th>0</th>\n",
       "      <td>0.00</td>\n",
       "      <td>0.001807</td>\n",
       "    </tr>\n",
       "    <tr>\n",
       "      <th>1</th>\n",
       "      <td>0.01</td>\n",
       "      <td>0.001812</td>\n",
       "    </tr>\n",
       "    <tr>\n",
       "      <th>2</th>\n",
       "      <td>0.02</td>\n",
       "      <td>0.001816</td>\n",
       "    </tr>\n",
       "    <tr>\n",
       "      <th>3</th>\n",
       "      <td>0.03</td>\n",
       "      <td>0.001821</td>\n",
       "    </tr>\n",
       "    <tr>\n",
       "      <th>4</th>\n",
       "      <td>0.04</td>\n",
       "      <td>0.001826</td>\n",
       "    </tr>\n",
       "  </tbody>\n",
       "</table>\n",
       "</div>"
      ],
      "text/plain": [
       "    PAY      PROB\n",
       "0  0.00  0.001807\n",
       "1  0.01  0.001812\n",
       "2  0.02  0.001816\n",
       "3  0.03  0.001821\n",
       "4  0.04  0.001826"
      ]
     },
     "execution_count": 2,
     "metadata": {},
     "output_type": "execute_result"
    }
   ],
   "source": [
    "pay_prob_df = pd.read_csv('Data/probs.csv', names = ['PAY', 'PROB'], header = 0)\n",
    "\n",
    "pay_prob_df.head()"
   ]
  },
  {
   "attachments": {},
   "cell_type": "markdown",
   "metadata": {},
   "source": [
    "## Create the results arrays"
   ]
  },
  {
   "cell_type": "code",
   "execution_count": null,
   "metadata": {},
   "outputs": [],
   "source": [
    "# Initialise the results dataframes\n",
    "\n",
    "def create_users_df(num_riders):\n",
    "    \n",
    "    users = {'USER_ID': np.arange(1, num_riders+1),\n",
    "          'ACTIVE': np.repeat(0, num_riders),\n",
    "          'REQ_M1': np.repeat(0, num_riders),\n",
    "          'REQ_M2': np.repeat(0, num_riders),\n",
    "          'REQ_M3': np.repeat(0, num_riders),\n",
    "          'REQ_M4': np.repeat(0, num_riders),\n",
    "          'REQ_M5': np.repeat(0, num_riders),\n",
    "          'REQ_M6': np.repeat(0, num_riders),\n",
    "          'REQ_M7': np.repeat(0, num_riders),\n",
    "          'REQ_M8': np.repeat(0, num_riders),\n",
    "          'REQ_M9': np.repeat(0, num_riders),\n",
    "          'REQ_M10': np.repeat(0, num_riders),\n",
    "          'REQ_M11': np.repeat(0, num_riders),\n",
    "          'REQ_M12': np.repeat(0, num_riders),\n",
    "          'RATE_M1': np.repeat(0, num_riders),\n",
    "          'RATE_M2': np.repeat(0, num_riders),\n",
    "          'RATE_M3': np.repeat(0, num_riders),\n",
    "          'RATE_M4': np.repeat(0, num_riders),\n",
    "          'RATE_M5': np.repeat(0, num_riders),\n",
    "          'RATE_M6': np.repeat(0, num_riders),\n",
    "          'RATE_M7': np.repeat(0, num_riders),\n",
    "          'RATE_M8': np.repeat(0, num_riders),\n",
    "          'RATE_M9': np.repeat(0, num_riders),\n",
    "          'RATE_M10': np.repeat(0, num_riders),\n",
    "          'RATE_M11': np.repeat(0, num_riders),\n",
    "          'RATE_M12': np.repeat(0, num_riders),\n",
    "          'RATE_M13': np.repeat(0, num_riders)\n",
    "          }\n",
    "\n",
    "    users_df = pd.DataFrame(users) \n",
    "    \n",
    "    return(users_df)\n",
    "\n",
    "\n",
    "def create_rides_df():\n",
    "    \n",
    "    rides = {'USER_ID': [],\n",
    "          'MONTH': [],\n",
    "          'RIDE_ID': [],\n",
    "          'ACCEPTED': [],\n",
    "          'PAY': [],\n",
    "          'PROFIT': []\n",
    "          }\n",
    "\n",
    "    rides_df = pd.DataFrame(rides)\n",
    "    \n",
    "    return(rides_df)"
   ]
  },
  {
   "attachments": {},
   "cell_type": "markdown",
   "metadata": {},
   "source": [
    "## The process"
   ]
  },
  {
   "attachments": {},
   "cell_type": "markdown",
   "metadata": {},
   "source": [
    "### Generate new active users"
   ]
  },
  {
   "cell_type": "code",
   "execution_count": null,
   "metadata": {},
   "outputs": [],
   "source": [
    "def generate_new_active_users(month, users_df):\n",
    "    \n",
    "    lower = (month - 1) * 1000\n",
    "    upper = (month) * 1000\n",
    "    \n",
    "    # Flag new users as active\n",
    "    users_df.ACTIVE[lower:upper] = 1\n",
    "\n",
    "    # This is the rate at which the new users request rides\n",
    "    users_df[\"RATE_M\"+f\"{month}\"][lower:upper] = 1\n",
    "    \n",
    "    return(users_df)"
   ]
  },
  {
   "attachments": {},
   "cell_type": "markdown",
   "metadata": {},
   "source": [
    "### Find active users"
   ]
  },
  {
   "cell_type": "code",
   "execution_count": null,
   "metadata": {},
   "outputs": [],
   "source": [
    "def find_active_users(users_df):\n",
    "    \n",
    "    # These users are active and will generate requests\n",
    "    active_users = users_df.index[users_df.ACTIVE == 1]\n",
    "\n",
    "    # This is the number of active users\n",
    "    num_active_users = len(active_users)\n",
    "    \n",
    "    return(active_users, num_active_users, users_df)"
   ]
  },
  {
   "attachments": {},
   "cell_type": "markdown",
   "metadata": {},
   "source": [
    "### Generate requests"
   ]
  },
  {
   "cell_type": "code",
   "execution_count": null,
   "metadata": {},
   "outputs": [],
   "source": [
    "def generate_requests(active_users, num_active_users, month, users_df):\n",
    "    \n",
    "    # This is the rate at which active users request new rides\n",
    "    rate = users_df[\"RATE_M\"+f\"{month}\"][active_users]\n",
    "\n",
    "    # These are the number of requests per user this month\n",
    "    users_df[\"REQ_M\"+f\"{month}\"][active_users] = random.poisson(lam=rate, size = num_active_users)\n",
    "\n",
    "    # These are the active users with 0 requests\n",
    "    non_returning_users = active_users[users_df[\"REQ_M\"+f\"{month}\"][active_users] == 0]\n",
    "\n",
    "    # Set these users to never active again\n",
    "    users_df.ACTIVE[non_returning_users] = -1\n",
    "\n",
    "    # These are the users with requests greater than 0\n",
    "    users_requesting = users_df.index[users_df[\"REQ_M\"+f\"{month}\"] > 0]\n",
    "\n",
    "    # These are the requests that we need to generate acceptances for\n",
    "    requests_oi = users_df[\"REQ_M\"+f\"{month}\"][users_requesting]\n",
    "    \n",
    "    return(users_requesting, requests_oi, users_df)"
   ]
  },
  {
   "attachments": {},
   "cell_type": "markdown",
   "metadata": {},
   "source": [
    "### Generate acceptances: Fixed rate"
   ]
  },
  {
   "cell_type": "code",
   "execution_count": null,
   "metadata": {},
   "outputs": [],
   "source": [
    "def generate_acceptances_individually(users_requesting, pay, pay_probs, month, users_df, rides_df):\n",
    "    \n",
    "    # Extract the number of rides of each user\n",
    "    ids_and_requests = users_df.loc[users_requesting, ['USER_ID', \"REQ_M\"+f\"{month}\"]]\n",
    "\n",
    "    # Calculate the total number of rides requested\n",
    "    num_rides = sum(ids_and_requests[\"REQ_M\"+f\"{month}\"])\n",
    "\n",
    "    # Set up an array to store the results\n",
    "    rides_this_month = np.zeros((num_rides, len(rides_df.columns)))\n",
    "\n",
    "    # A count of the number of rides processed\n",
    "    ride_row = 0\n",
    "    \n",
    "    # Look up the acceptance probability of the Pay\n",
    "    prob_acc = pay_probs.PROB[pay_probs.PAY == pay].values[0]\n",
    "\n",
    "    # Loop through each ride and generate if it accepted or not\n",
    "    # and how the Pay, and store the results in the temp array\n",
    "    for row in range(0, len(ids_and_requests)):\n",
    "        user_id_j = ids_and_requests.USER_ID.iloc[row]\n",
    "        requests_j = ids_and_requests[\"REQ_M\"+f\"{month}\"].iloc[row]\n",
    "        \n",
    "        total_acc_j = 0\n",
    "        \n",
    "        for ride in range(1, requests_j+1):\n",
    "            acc_j_r = random.random() < prob_acc\n",
    "            rides_this_month[ride_row, :] = [user_id_j, month, ride, acc_j_r, pay, 30-pay]\n",
    "            ride_row = ride_row + 1\n",
    "            total_acc_j = total_acc_j + acc_j_r\n",
    "            \n",
    "        users_df[\"RATE_M\"+f\"{month+1}\"][users_requesting[row]] = total_acc_j\n",
    "            \n",
    "    # These are the users that had none of their ride requests accepted this month\n",
    "    non_returning_users_2 = users_requesting[users_df[\"RATE_M\"+f\"{month+1}\"][users_requesting] == 0]\n",
    "\n",
    "    # Set these users to never active again\n",
    "    users_df.ACTIVE[non_returning_users_2] = -1        \n",
    "        \n",
    "    # Convert the temp ride array to a data frame        \n",
    "    rides_this_month_df = pd.DataFrame(rides_this_month, columns=rides_df.columns)        \n",
    "\n",
    "    # Append the temp array to the rides results df\n",
    "    rides_df = pd.concat([rides_df, rides_this_month_df], ignore_index=True)\n",
    "    \n",
    "    return(users_df, rides_df)"
   ]
  },
  {
   "attachments": {},
   "cell_type": "markdown",
   "metadata": {},
   "source": [
    "### Generate acceptances: Adaptive rate"
   ]
  },
  {
   "cell_type": "code",
   "execution_count": null,
   "metadata": {},
   "outputs": [],
   "source": [
    "def generate_acceptances_adaptive(users_requesting, pays, probs, pay_probs, month, users_df, rides_df):\n",
    "    \n",
    "    # Extract the number of rides of each user\n",
    "    ids_and_requests = users_df.loc[users_requesting, ['USER_ID', \"REQ_M\"+f\"{month}\"]]\n",
    "\n",
    "    # Calculate the total number of rides requested\n",
    "    num_rides = sum(ids_and_requests[\"REQ_M\"+f\"{month}\"])\n",
    "\n",
    "    # Set up an array to store the results\n",
    "    rides_this_month = np.zeros((num_rides, len(rides_df.columns)))\n",
    "\n",
    "    # A count of the number of rides processed\n",
    "    ride_row = 0\n",
    "    \n",
    "\n",
    "    # Loop through each ride and generate if it accepted or not\n",
    "    # and how the Pay, and store the results in the temp array\n",
    "    for row in range(0, len(ids_and_requests)):\n",
    "        user_id_j = ids_and_requests.USER_ID.iloc[row]\n",
    "        requests_j = ids_and_requests[\"REQ_M\"+f\"{month}\"].iloc[row]\n",
    "        \n",
    "        total_acc_j = 0\n",
    "\n",
    "        for ride in range(1, requests_j+1):\n",
    "            if total_acc_j > 0:\n",
    "                pay = pays[1]\n",
    "                prob_acc = probs[1]\n",
    "            else:\n",
    "                pay = pays[0]\n",
    "                prob_acc = probs[0]\n",
    "                \n",
    "            acc_j_r = random.random() < prob_acc\n",
    "            rides_this_month[ride_row, :] = [user_id_j, month, ride, acc_j_r, pay, 30-pay]\n",
    "            ride_row = ride_row + 1\n",
    "            total_acc_j = total_acc_j + acc_j_r\n",
    "            \n",
    "        users_df[\"RATE_M\"+f\"{month+1}\"][users_requesting[row]] = total_acc_j\n",
    "            \n",
    "    # These are the users that had none of their ride requests accepted this month\n",
    "    non_returning_users_2 = users_requesting[users_df[\"RATE_M\"+f\"{month+1}\"][users_requesting] == 0]\n",
    "\n",
    "    # Set these users to never active again\n",
    "    users_df.ACTIVE[non_returning_users_2] = -1        \n",
    "        \n",
    "    # Convert the temp ride array to a data frame        \n",
    "    rides_this_month_df = pd.DataFrame(rides_this_month, columns=rides_df.columns)        \n",
    "\n",
    "    # Append the temp array to the rides results df\n",
    "    rides_df = pd.concat([rides_df, rides_this_month_df], ignore_index=True)\n",
    "    \n",
    "    return(users_df, rides_df)"
   ]
  },
  {
   "attachments": {},
   "cell_type": "markdown",
   "metadata": {},
   "source": [
    "### Generate acceptances: Time dependent rate"
   ]
  },
  {
   "cell_type": "code",
   "execution_count": null,
   "metadata": {},
   "outputs": [],
   "source": [
    "def generate_acceptances_half(users_requesting, pays, probs, pay_probs, month_change, month, users_df, rides_df):\n",
    "    \n",
    "    # Extract the number of rides of each user\n",
    "    ids_and_requests = users_df.loc[users_requesting, ['USER_ID', \"REQ_M\"+f\"{month}\"]]\n",
    "\n",
    "    # Calculate the total number of rides requested\n",
    "    num_rides = sum(ids_and_requests[\"REQ_M\"+f\"{month}\"])\n",
    "\n",
    "    # Set up an array to store the results\n",
    "    rides_this_month = np.zeros((num_rides, len(rides_df.columns)))\n",
    "\n",
    "    # A count of the number of rides processed\n",
    "    ride_row = 0\n",
    "    \n",
    "\n",
    "    # Loop through each ride and generate if it accepted or not\n",
    "    # and how the Pay, and store the results in the temp array\n",
    "    for row in range(0, len(ids_and_requests)):\n",
    "        user_id_j = ids_and_requests.USER_ID.iloc[row]\n",
    "        requests_j = ids_and_requests[\"REQ_M\"+f\"{month}\"].iloc[row]\n",
    "        \n",
    "        total_acc_j = 0\n",
    "\n",
    "        for ride in range(1, requests_j+1):\n",
    "            if month > month_change:\n",
    "                pay = pays[1]\n",
    "                prob_acc = probs[1]\n",
    "            else:\n",
    "                pay = pays[0]\n",
    "                prob_acc = probs[0]\n",
    "                \n",
    "            acc_j_r = random.random() < prob_acc\n",
    "            rides_this_month[ride_row, :] = [user_id_j, month, ride, acc_j_r, pay, 30-pay]\n",
    "            ride_row = ride_row + 1\n",
    "            total_acc_j = total_acc_j + acc_j_r\n",
    "            \n",
    "        users_df[\"RATE_M\"+f\"{month+1}\"][users_requesting[row]] = total_acc_j\n",
    "            \n",
    "    # These are the users that had none of their ride requests accepted this month\n",
    "    non_returning_users_2 = users_requesting[users_df[\"RATE_M\"+f\"{month+1}\"][users_requesting] == 0]\n",
    "\n",
    "    # Set these users to never active again\n",
    "    users_df.ACTIVE[non_returning_users_2] = -1        \n",
    "        \n",
    "    # Convert the temp ride array to a data frame        \n",
    "    rides_this_month_df = pd.DataFrame(rides_this_month, columns=rides_df.columns)        \n",
    "\n",
    "    # Append the temp array to the rides results df\n",
    "    rides_df = pd.concat([rides_df, rides_this_month_df], ignore_index=True)\n",
    "    \n",
    "    return(users_df, rides_df)"
   ]
  }
 ],
 "metadata": {
  "kernelspec": {
   "display_name": "Python 3",
   "language": "python",
   "name": "python3"
  },
  "language_info": {
   "codemirror_mode": {
    "name": "ipython",
    "version": 3
   },
   "file_extension": ".py",
   "mimetype": "text/x-python",
   "name": "python",
   "nbconvert_exporter": "python",
   "pygments_lexer": "ipython3",
   "version": "3.9.15"
  },
  "orig_nbformat": 4,
  "vscode": {
   "interpreter": {
    "hash": "36cf16204b8548560b1c020c4e8fb5b57f0e4c58016f52f2d4be01e192833930"
   }
  }
 },
 "nbformat": 4,
 "nbformat_minor": 2
}
